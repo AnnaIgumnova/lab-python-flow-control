{
 "cells": [
  {
   "cell_type": "markdown",
   "id": "d3bfc191-8885-42ee-b0a0-bbab867c6f9f",
   "metadata": {
    "tags": []
   },
   "source": [
    "# Lab | Flow Control"
   ]
  },
  {
   "cell_type": "markdown",
   "id": "3851fcd1-cf98-4653-9c89-e003b7ec9400",
   "metadata": {},
   "source": [
    "## Exercise: Managing Customer Orders Optimized\n",
    "\n",
    "In the last lab, you were starting an online store that sells various products. To ensure smooth operations, you developed a program that manages customer orders and inventory.\n",
    "\n",
    "You did so without using flow control. Let's go a step further and improve this code.\n",
    "\n",
    "Follow the steps below to complete the exercise:\n",
    "\n",
    "1. Look at your code from the lab data structures, and improve repeated code with loops.\n",
    "\n",
    "2. Instead of asking the user to input the name of three products that a customer wants to order, do the following:\n",
    "    \n",
    "    a. Prompt the user to enter the name of a product that a customer wants to order.\n",
    "    \n",
    "    b. Add the product name to the \"customer_orders\" set.\n",
    "    \n",
    "    c. Ask the user if they want to add another product (yes/no).\n",
    "    \n",
    "    d. Continue the loop until the user does not want to add another product.\n",
    "\n",
    "3. Instead of updating the inventory by subtracting 1 from the quantity of each product, only do it for  the products that were ordered (those in \"customer_orders\")."
   ]
  },
  {
   "cell_type": "code",
   "execution_count": 1,
   "id": "be666ab6",
   "metadata": {},
   "outputs": [],
   "source": [
    "products = [\"t-shirt\", \"mug\", \"hat\", \"book\", \"keychain\"]\n",
    "inventory = {} # empty dictionary"
   ]
  },
  {
   "cell_type": "code",
   "execution_count": 2,
   "id": "2bacc7d8",
   "metadata": {},
   "outputs": [
    {
     "name": "stdout",
     "output_type": "stream",
     "text": [
      "{'t-shirt': 4, 'mug': 6, 'hat': 2, 'book': 8, 'keychain': 5}\n"
     ]
    }
   ],
   "source": [
    "inventory[products[0]] = int(input(\"Enter the amount of t-shirts: \"))\n",
    "inventory[products[1]] = int(input(\"Enter the amount of mugs: \"))\n",
    "inventory[products[2]] = int(input(\"Enter the amount of hats: \"))\n",
    "inventory[products[3]] = int(input(\"Enter the amount of books: \"))\n",
    "inventory[products[4]] = int(input(\"Enter the amount of keychains: \"))\n",
    "print(inventory)"
   ]
  },
  {
   "cell_type": "code",
   "execution_count": 21,
   "id": "5d5088d9",
   "metadata": {},
   "outputs": [
    {
     "name": "stdout",
     "output_type": "stream",
     "text": [
      "Your order:  {'book', 'mug', 'keychain'}\n"
     ]
    }
   ],
   "source": [
    "products = [\"t-shirt\", \"mug\", \"hat\", \"book\", \"keychain\"]\n",
    "customer_orders = set() # empty set\n",
    "add_more = 'yes' # adding a condition for the loop\n",
    "while add_more == 'yes':\n",
    "    product = input(\"Enter the product you want to order: \")\n",
    "    if product in products:\n",
    "        customer_orders.add(product)\n",
    "    else:\n",
    "        print(\"product not found, try again\") # how to repeat this untill a product from the list is chosen?\n",
    "    add_more = input(\"Do you want to order more: yes/no ?\")\n",
    "print(\"Your order: \", customer_orders)"
   ]
  },
  {
   "cell_type": "code",
   "execution_count": 22,
   "id": "5f7aeafb",
   "metadata": {},
   "outputs": [
    {
     "name": "stdout",
     "output_type": "stream",
     "text": [
      "3\n",
      "5\n",
      "60.0\n"
     ]
    }
   ],
   "source": [
    "products_ordered = len(customer_orders)\n",
    "print(products_ordered)\n",
    "\n",
    "avaliable_products = len(products)\n",
    "print(avaliable_products)\n",
    "\n",
    "percentage = (products_ordered/avaliable_products)*100\n",
    "print(percentage)\n"
   ]
  },
  {
   "cell_type": "code",
   "execution_count": 23,
   "id": "034b1461",
   "metadata": {},
   "outputs": [
    {
     "name": "stdout",
     "output_type": "stream",
     "text": [
      "Order status:  ('ordered products:', 3, 'products avaliable:', 5)\n"
     ]
    }
   ],
   "source": [
    "order_status = (\"ordered products:\", products_ordered, \"products avaliable:\", avaliable_products)\n",
    "print(\"Order status: \", order_status)"
   ]
  },
  {
   "cell_type": "code",
   "execution_count": 24,
   "id": "b66a9227",
   "metadata": {},
   "outputs": [
    {
     "name": "stdout",
     "output_type": "stream",
     "text": [
      "{'t-shirt': 4, 'mug': 6, 'hat': 2, 'book': 8, 'keychain': 5}\n",
      "{'book', 'mug', 'keychain'}\n",
      "dict_keys(['t-shirt', 'mug', 'hat', 'book', 'keychain'])\n"
     ]
    }
   ],
   "source": [
    "print(inventory)\n",
    "print(customer_orders)\n",
    "print(inventory.keys())"
   ]
  },
  {
   "cell_type": "code",
   "execution_count": 25,
   "id": "413deea2",
   "metadata": {},
   "outputs": [
    {
     "name": "stdout",
     "output_type": "stream",
     "text": [
      "{'t-shirt': 4, 'mug': 5, 'hat': 2, 'book': 7, 'keychain': 4}\n"
     ]
    }
   ],
   "source": [
    "for product in customer_orders:\n",
    "    if product in inventory and inventory[product] > 0:\n",
    "        inventory[product] -= 1\n",
    "print(inventory)"
   ]
  },
  {
   "cell_type": "code",
   "execution_count": 26,
   "id": "ecb4141c",
   "metadata": {},
   "outputs": [
    {
     "name": "stdout",
     "output_type": "stream",
     "text": [
      "Updated inventory:\n",
      "t-shirt: 4\n",
      "mug: 5\n",
      "hat: 2\n",
      "book: 7\n",
      "keychain: 4\n"
     ]
    }
   ],
   "source": [
    "print(\"Updated inventory:\")\n",
    "for position, amount in inventory.items():\n",
    "    print(position + \": \" + str(amount))"
   ]
  }
 ],
 "metadata": {
  "kernelspec": {
   "display_name": "base",
   "language": "python",
   "name": "python3"
  },
  "language_info": {
   "codemirror_mode": {
    "name": "ipython",
    "version": 3
   },
   "file_extension": ".py",
   "mimetype": "text/x-python",
   "name": "python",
   "nbconvert_exporter": "python",
   "pygments_lexer": "ipython3",
   "version": "3.13.5"
  }
 },
 "nbformat": 4,
 "nbformat_minor": 5
}
